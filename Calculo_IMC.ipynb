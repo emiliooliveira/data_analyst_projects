{
  "nbformat": 4,
  "nbformat_minor": 0,
  "metadata": {
    "colab": {
      "provenance": [],
      "include_colab_link": true
    },
    "kernelspec": {
      "name": "python3",
      "display_name": "Python 3"
    },
    "language_info": {
      "name": "python"
    }
  },
  "cells": [
    {
      "cell_type": "markdown",
      "metadata": {
        "id": "view-in-github",
        "colab_type": "text"
      },
      "source": [
        "<a href=\"https://colab.research.google.com/github/emiliooliveira/data_analyst_projects/blob/main/Calculo_IMC.ipynb\" target=\"_parent\"><img src=\"https://colab.research.google.com/assets/colab-badge.svg\" alt=\"Open In Colab\"/></a>"
      ]
    },
    {
      "cell_type": "markdown",
      "source": [
        "# O que é IMC?\n",
        "\n",
        "#### O IMC, sigla para Índice de Massa Corpórea, é um parâmetro adotado pela Organização Mundial de Saúde para avaliar o peso ideal de cada pessoa. Esse índice é calculado dividindo o peso do indivíduo pela sua altura elevada ao quadrado. Um resultado de IMC entre 18,5 e 24,9 indica que o peso do indivíduo está dentro da faixa considerada saudável.\n"
      ],
      "metadata": {
        "id": "XaIUKfaiLO2V"
      }
    },
    {
      "cell_type": "markdown",
      "source": [
        "#Coletando dados do usuário\n",
        "\n",
        "#### Nessa primeira parte, vamos coletar os dados do usuário, como nome, idade, peso e altura. Tais dados são muitos importantes para nossa análise."
      ],
      "metadata": {
        "id": "VGSn9zNEFp8B"
      }
    },
    {
      "cell_type": "code",
      "execution_count": null,
      "metadata": {
        "id": "kfLyb35bEyFi"
      },
      "outputs": [],
      "source": [
        "nome = input(\"Digite o nome do usuário(a): \")\n",
        "idade = input(\"Digite a idade do usuário(a): \")\n",
        "peso = input(\"Digite o peso do usuário(a) (kg): \")\n",
        "altura = input(\"Digite a altura do usuário(a) (m): \")"
      ]
    },
    {
      "cell_type": "markdown",
      "source": [
        "#Calculando o IMC\n",
        "\n",
        "#### Para realizar o cálculo corretamente, é necessário converter os valores de peso e altura que são recebidos como string para o tipo float"
      ],
      "metadata": {
        "id": "4Gp5U-s8FzBq"
      }
    },
    {
      "cell_type": "code",
      "source": [
        "imc = float(peso) / (float(altura) ** 2)"
      ],
      "metadata": {
        "id": "Xo6tMY55F2V6"
      },
      "execution_count": null,
      "outputs": []
    },
    {
      "cell_type": "code",
      "source": [
        "print (imc)"
      ],
      "metadata": {
        "colab": {
          "base_uri": "https://localhost:8080/"
        },
        "id": "ViIwnzEjG4aR",
        "outputId": "6eb4dce7-f3e3-499d-b7de-4e1500b2afbf"
      },
      "execution_count": null,
      "outputs": [
        {
          "output_type": "stream",
          "name": "stdout",
          "text": [
            "30.42184964845863\n"
          ]
        }
      ]
    },
    {
      "cell_type": "markdown",
      "source": [
        "#Criando o status\n",
        "\n",
        "#### Aqui é definida a regra para exibir o resultado do IMC do usuário. Se o valor do IMC for menor que 25, significa que o peso do usuário está dentro do normal e saudável. No entanto, se o valor do IMC for maior que 25, indica que o usuário está com sobrepeso."
      ],
      "metadata": {
        "id": "CDXRCeDkG74a"
      }
    },
    {
      "cell_type": "code",
      "source": [
        "status = \"dentro do peso\"\n",
        "if imc > 25:\n",
        "  status = \"sobrepeso\""
      ],
      "metadata": {
        "id": "LSsHqM2QG_Po"
      },
      "execution_count": null,
      "outputs": []
    },
    {
      "cell_type": "code",
      "source": [
        "print(status)"
      ],
      "metadata": {
        "colab": {
          "base_uri": "https://localhost:8080/"
        },
        "id": "ZAhL46kkHNmo",
        "outputId": "6a8ea0f6-dcff-461e-c740-10d192c2e5bf"
      },
      "execution_count": null,
      "outputs": [
        {
          "output_type": "stream",
          "name": "stdout",
          "text": [
            "sobrepeso\n"
          ]
        }
      ]
    },
    {
      "cell_type": "markdown",
      "source": [
        "#Gerando o PDF"
      ],
      "metadata": {
        "id": "tSN3YinnHd5R"
      }
    },
    {
      "cell_type": "markdown",
      "source": [
        "#### Neste item vamos instalar o pacote *pdf_reports* e fazer com que as informações do imc do usuário, sejam redirecionadas para um PDF, utilizando o template do arquivo *template.pug*."
      ],
      "metadata": {
        "id": "4NI8vxdaNbFB"
      }
    },
    {
      "cell_type": "markdown",
      "source": [
        "###### Começamos instalando o pacote *pdf_reports*"
      ],
      "metadata": {
        "id": "dQJ1SzKMNt7x"
      }
    },
    {
      "cell_type": "code",
      "source": [
        "!pip install pdf_reports"
      ],
      "metadata": {
        "id": "B-tOss-_HgdZ",
        "colab": {
          "base_uri": "https://localhost:8080/"
        },
        "outputId": "e3ff1d7a-202c-4a77-933e-f5889e95ac53"
      },
      "execution_count": null,
      "outputs": [
        {
          "output_type": "stream",
          "name": "stdout",
          "text": [
            "Looking in indexes: https://pypi.org/simple, https://us-python.pkg.dev/colab-wheels/public/simple/\n",
            "Requirement already satisfied: pdf_reports in /usr/local/lib/python3.9/dist-packages (0.3.4)\n",
            "Requirement already satisfied: pandas in /usr/local/lib/python3.9/dist-packages (from pdf_reports) (1.4.4)\n",
            "Requirement already satisfied: backports.functools-lru-cache in /usr/local/lib/python3.9/dist-packages (from pdf_reports) (1.6.4)\n",
            "Requirement already satisfied: beautifulsoup4 in /usr/local/lib/python3.9/dist-packages (from pdf_reports) (4.11.2)\n",
            "Requirement already satisfied: jinja2 in /usr/local/lib/python3.9/dist-packages (from pdf_reports) (3.1.2)\n",
            "Requirement already satisfied: Markdown in /usr/local/lib/python3.9/dist-packages (from pdf_reports) (3.4.3)\n",
            "Requirement already satisfied: weasyprint<=52 in /usr/local/lib/python3.9/dist-packages (from pdf_reports) (52)\n",
            "Requirement already satisfied: pypugjs in /usr/local/lib/python3.9/dist-packages (from pdf_reports) (5.9.12)\n",
            "Requirement already satisfied: Pillow>=4.0.0 in /usr/local/lib/python3.9/dist-packages (from weasyprint<=52->pdf_reports) (8.4.0)\n",
            "Requirement already satisfied: html5lib>=0.999999999 in /usr/local/lib/python3.9/dist-packages (from weasyprint<=52->pdf_reports) (1.1)\n",
            "Requirement already satisfied: Pyphen>=0.9.1 in /usr/local/lib/python3.9/dist-packages (from weasyprint<=52->pdf_reports) (0.14.0)\n",
            "Requirement already satisfied: cssselect2>=0.1 in /usr/local/lib/python3.9/dist-packages (from weasyprint<=52->pdf_reports) (0.7.0)\n",
            "Requirement already satisfied: setuptools>=39.2.0 in /usr/local/lib/python3.9/dist-packages (from weasyprint<=52->pdf_reports) (67.6.1)\n",
            "Requirement already satisfied: cffi>=0.6 in /usr/local/lib/python3.9/dist-packages (from weasyprint<=52->pdf_reports) (1.15.1)\n",
            "Requirement already satisfied: cairocffi>=0.9.0 in /usr/local/lib/python3.9/dist-packages (from weasyprint<=52->pdf_reports) (1.5.0)\n",
            "Requirement already satisfied: CairoSVG>=2.4.0 in /usr/local/lib/python3.9/dist-packages (from weasyprint<=52->pdf_reports) (2.7.0)\n",
            "Requirement already satisfied: tinycss2>=1.0.0 in /usr/local/lib/python3.9/dist-packages (from weasyprint<=52->pdf_reports) (1.2.1)\n",
            "Requirement already satisfied: soupsieve>1.2 in /usr/local/lib/python3.9/dist-packages (from beautifulsoup4->pdf_reports) (2.4)\n",
            "Requirement already satisfied: MarkupSafe>=2.0 in /usr/local/lib/python3.9/dist-packages (from jinja2->pdf_reports) (2.1.2)\n",
            "Requirement already satisfied: importlib-metadata>=4.4 in /usr/local/lib/python3.9/dist-packages (from Markdown->pdf_reports) (6.1.0)\n",
            "Requirement already satisfied: numpy>=1.18.5 in /usr/local/lib/python3.9/dist-packages (from pandas->pdf_reports) (1.22.4)\n",
            "Requirement already satisfied: python-dateutil>=2.8.1 in /usr/local/lib/python3.9/dist-packages (from pandas->pdf_reports) (2.8.2)\n",
            "Requirement already satisfied: pytz>=2020.1 in /usr/local/lib/python3.9/dist-packages (from pandas->pdf_reports) (2022.7.1)\n",
            "Requirement already satisfied: charset-normalizer in /usr/local/lib/python3.9/dist-packages (from pypugjs->pdf_reports) (2.0.12)\n",
            "Requirement already satisfied: six in /usr/local/lib/python3.9/dist-packages (from pypugjs->pdf_reports) (1.16.0)\n",
            "Requirement already satisfied: defusedxml in /usr/local/lib/python3.9/dist-packages (from CairoSVG>=2.4.0->weasyprint<=52->pdf_reports) (0.7.1)\n",
            "Requirement already satisfied: pycparser in /usr/local/lib/python3.9/dist-packages (from cffi>=0.6->weasyprint<=52->pdf_reports) (2.21)\n",
            "Requirement already satisfied: webencodings in /usr/local/lib/python3.9/dist-packages (from cssselect2>=0.1->weasyprint<=52->pdf_reports) (0.5.1)\n",
            "Requirement already satisfied: zipp>=0.5 in /usr/local/lib/python3.9/dist-packages (from importlib-metadata>=4.4->Markdown->pdf_reports) (3.15.0)\n"
          ]
        }
      ]
    },
    {
      "cell_type": "code",
      "source": [
        "import pdf_reports"
      ],
      "metadata": {
        "id": "1DEL2Jc-H7c4"
      },
      "execution_count": null,
      "outputs": []
    },
    {
      "cell_type": "markdown",
      "source": [
        "###### Agora é criado o dicionário *dados_usuario*, que contém informações sobre o nome, idade, peso, altura, índice de massa corpórea (IMC) e status do usuário.\n",
        "\n",
        "##### Utilizamos o método round para arredondar o valor do IMC para 2 casas decimais. Isso ajuda a reduzir o número de casas no resultado final e torná-lo mais legível e fácil de entender."
      ],
      "metadata": {
        "id": "tC_ckwfTN3Cr"
      }
    },
    {
      "cell_type": "code",
      "source": [
        "dados_usuario = {\n",
        "    \"nome\": nome,\n",
        "    \"idade\": idade,\n",
        "    \"peso\": peso,\n",
        "    \"altura\": altura,\n",
        "    \"imc\": round(imc,2),\n",
        "    \"status\": status\n",
        "}"
      ],
      "metadata": {
        "id": "MeWTGHvKIlCx"
      },
      "execution_count": null,
      "outputs": []
    },
    {
      "cell_type": "markdown",
      "source": [
        "###### Em seguida, criamos a variável *template* usando a função *pug_to_html()* do pacote *pdf_reports*. Essa função converte um modelo em Pug (uma linguagem de modelagem HTML simplificada) para HTML."
      ],
      "metadata": {
        "id": "GuexeBeVOFxS"
      }
    },
    {
      "cell_type": "code",
      "source": [
        "template = pdf_reports.pug_to_html(\"template.pug\", dados = dados_usuario)"
      ],
      "metadata": {
        "id": "BoBj0_VhH_z7"
      },
      "execution_count": null,
      "outputs": []
    },
    {
      "cell_type": "markdown",
      "source": [
        "##### Por fim, a função *write_report()* do pacote *pdf_reports* é usada para criar um arquivo PDF que contém o resultado do IMC do usuário. A variável *template* é usada como modelo para criar o relatório em PDF. Definimos o nome do arquivo PDF como \"imc_usuario.pdf\". O parâmetro *use_default_styling* é definido como *False*, o que significa que não serão usados estilos de formatação padrão para o PDF."
      ],
      "metadata": {
        "id": "YWiQqXX6OfdJ"
      }
    },
    {
      "cell_type": "code",
      "source": [
        "pdf_reports.write_report(template, \"imc_usuario.pdf\", use_default_styling=False)"
      ],
      "metadata": {
        "id": "7_0pUULSJLHh"
      },
      "execution_count": null,
      "outputs": []
    }
  ]
}