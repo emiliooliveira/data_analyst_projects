{
  "nbformat": 4,
  "nbformat_minor": 0,
  "metadata": {
    "colab": {
      "provenance": [],
      "authorship_tag": "ABX9TyN3h40HrrGsXrd3zu4MumN8",
      "include_colab_link": true
    },
    "kernelspec": {
      "name": "python3",
      "display_name": "Python 3"
    },
    "language_info": {
      "name": "python"
    }
  },
  "cells": [
    {
      "cell_type": "markdown",
      "metadata": {
        "id": "view-in-github",
        "colab_type": "text"
      },
      "source": [
        "<a href=\"https://colab.research.google.com/github/emiliooliveira/data_analyst_projects/blob/main/Analise_de_Dados_Campeonato_Brasileiro_do_Atletico_Mineiro.ipynb\" target=\"_parent\"><img src=\"https://colab.research.google.com/assets/colab-badge.svg\" alt=\"Open In Colab\"/></a>"
      ]
    },
    {
      "cell_type": "code",
      "execution_count": 19,
      "metadata": {
        "id": "deW2oeKOHnsf"
      },
      "outputs": [],
      "source": [
        "import pandas as pd\n",
        "import matplotlib.pyplot as plt"
      ]
    },
    {
      "cell_type": "code",
      "source": [
        "df_brasileirao = pd.read_csv('brasileirao2003.csv', sep=';')"
      ],
      "metadata": {
        "id": "34tWdlKQVu1h"
      },
      "execution_count": 2,
      "outputs": []
    },
    {
      "cell_type": "markdown",
      "source": [
        "Como torcedor do Atlético Mineiro e iniciante no mundo da análise de dados, decidi explorar o desempenho do clube nas edições do Campeonato Brasileiro de 2003 a 2024. Através dos dados disponíveis em um arquivo .csv, busquei identificar padrões de desempenho, melhores e piores campanhas, e outros insights interessantes."
      ],
      "metadata": {
        "id": "s9gzS7xjW_13"
      }
    },
    {
      "cell_type": "markdown",
      "source": [
        "# Inicio"
      ],
      "metadata": {
        "id": "UEb6AArgXOFJ"
      }
    },
    {
      "cell_type": "markdown",
      "source": [
        "Comecei carregando a base de dados do Brasileirão e visualizando as primeiras linhas para entender quais informações estavam disponíveis. A base inclui dados como temporada, time, pontos, vitórias, empates, derrotas, gols, entre outros."
      ],
      "metadata": {
        "id": "eOtpaog0XSzg"
      }
    },
    {
      "cell_type": "code",
      "source": [
        "print(df_brasileirao.head())"
      ],
      "metadata": {
        "colab": {
          "base_uri": "https://localhost:8080/"
        },
        "id": "0_Zwcox_IqZJ",
        "outputId": "c10c73c4-d061-49da-9111-70b274c826dc"
      },
      "execution_count": 3,
      "outputs": [
        {
          "output_type": "stream",
          "name": "stdout",
          "text": [
            "   temporada  posicao         time  pontos  total_de_jogos  vitorias  empates  \\\n",
            "0       2003        1     Cruzeiro     100              46        31        7   \n",
            "1       2003        2       Santos      87              46        25       12   \n",
            "2       2003        3    São Paulo      78              46        22       12   \n",
            "3       2003        4  São Caetano      74              46        19       14   \n",
            "4       2003        5     Coritiba      73              46        21       10   \n",
            "\n",
            "   derrotas  gols  gols_sofridos  saldo_de_gols  \n",
            "0         8   102             47             55  \n",
            "1         9    93             60             33  \n",
            "2        12    81             67             14  \n",
            "3        13    53             37             16  \n",
            "4        15    67             58              9  \n"
          ]
        }
      ]
    },
    {
      "cell_type": "markdown",
      "source": [
        "Aqui, filtrei o DataFrame para trabalhar exclusivamente com os dados do Atlético Mineiro, meu time de coração. Isso nos permite focar apenas nas campanhas do Galo entre 2003 e 2024."
      ],
      "metadata": {
        "id": "pIJfNUnrXt8E"
      }
    },
    {
      "cell_type": "code",
      "source": [
        "resultado = df_brasileirao[df_brasileirao['time'] == 'Atlético Mineiro']\n",
        "print(resultado)"
      ],
      "metadata": {
        "colab": {
          "base_uri": "https://localhost:8080/"
        },
        "id": "OX8xaWMvMe42",
        "outputId": "28ce5548-aa29-4492-d3c2-ec8b0e4a2721"
      },
      "execution_count": 4,
      "outputs": [
        {
          "output_type": "stream",
          "name": "stdout",
          "text": [
            "     temporada  posicao              time  pontos  total_de_jogos  vitorias  \\\n",
            "5         2003        6  Atlético Mineiro      72              46        19   \n",
            "42        2004       19  Atlético Mineiro      53              46        12   \n",
            "67        2005       20  Atlético Mineiro      47              42        13   \n",
            "97        2007        8  Atlético Mineiro      55              38        15   \n",
            "121       2008       12  Atlético Mineiro      48              38        12   \n",
            "136       2009        7  Atlético Mineiro      56              38        16   \n",
            "162       2010       13  Atlético Mineiro      45              38        13   \n",
            "184       2011       15  Atlético Mineiro      45              38        13   \n",
            "191       2012        2  Atlético Mineiro      72              38        20   \n",
            "217       2013        8  Atlético Mineiro      57              38        15   \n",
            "234       2014        5  Atlético Mineiro      62              38        17   \n",
            "251       2015        2  Atlético Mineiro      69              38        21   \n",
            "273       2016        4  Atlético Mineiro      62              38        17   \n",
            "298       2017        9  Atlético Mineiro      54              38        14   \n",
            "315       2018        6  Atlético Mineiro      59              38        17   \n",
            "342       2019       13  Atlético Mineiro      48              38        13   \n",
            "352       2020        3  Atlético Mineiro      68              38        20   \n",
            "370       2021        1  Atlético Mineiro      84              38        26   \n",
            "396       2022        7  Atlético Mineiro      58              38        15   \n",
            "412       2023        3  Atlético Mineiro      66              38        19   \n",
            "441       2024       12  Atlético Mineiro      47              38        11   \n",
            "\n",
            "     empates  derrotas  gols  gols_sofridos  saldo_de_gols  \n",
            "5         15        12    76             62             14  \n",
            "42        17        17    60             66             -6  \n",
            "67         8        21    54             59             -5  \n",
            "97        10        13    63             51             12  \n",
            "121       12        14    50             61            -11  \n",
            "136        8        14    55             56             -1  \n",
            "162        6        19    52             64            -12  \n",
            "184        6        19    50             60            -10  \n",
            "191       12         6    64             37             27  \n",
            "217       12        11    49             38             11  \n",
            "234       11        10    51             38             13  \n",
            "251        6        11    65             47             18  \n",
            "273       11        10    61             53              8  \n",
            "298       12        12    52             49              3  \n",
            "315        8        13    56             43             13  \n",
            "342        9        16    45             49             -4  \n",
            "352        8        10    64             45             19  \n",
            "370        6         6    67             34             33  \n",
            "396       13        10    45             37              8  \n",
            "412        9        10    52             32             20  \n",
            "441       14        13    47             54             -7  \n"
          ]
        }
      ]
    },
    {
      "cell_type": "markdown",
      "source": [
        "Foi feita uma ordenação das temporadas do clube por número de vitórias. Destaque para o ano de 2021, quando o Atlético foi campeão brasileiro com 26 vitórias e 67 gols marcados."
      ],
      "metadata": {
        "id": "SOrtgdodRF-M"
      }
    },
    {
      "cell_type": "code",
      "source": [
        "vitorias_temp = resultado.sort_values(by=\"vitorias\", ascending=False)\n",
        "\n",
        "max_vitorias_reset = vitorias_temp.reset_index(drop=True)\n",
        "\n",
        "print(max_vitorias_reset[[\"temporada\", \"time\", \"posicao\", \"vitorias\", \"gols\" ]])"
      ],
      "metadata": {
        "colab": {
          "base_uri": "https://localhost:8080/"
        },
        "id": "heCfZ0C3N4L7",
        "outputId": "b468387a-80fc-474c-9feb-7ec3617cdc2f"
      },
      "execution_count": 17,
      "outputs": [
        {
          "output_type": "stream",
          "name": "stdout",
          "text": [
            "    temporada              time  posicao  vitorias  gols\n",
            "0        2021  Atlético Mineiro        1        26    67\n",
            "1        2015  Atlético Mineiro        2        21    65\n",
            "2        2020  Atlético Mineiro        3        20    64\n",
            "3        2012  Atlético Mineiro        2        20    64\n",
            "4        2003  Atlético Mineiro        6        19    76\n",
            "5        2023  Atlético Mineiro        3        19    52\n",
            "6        2018  Atlético Mineiro        6        17    56\n",
            "7        2014  Atlético Mineiro        5        17    51\n",
            "8        2016  Atlético Mineiro        4        17    61\n",
            "9        2009  Atlético Mineiro        7        16    55\n",
            "10       2022  Atlético Mineiro        7        15    45\n",
            "11       2013  Atlético Mineiro        8        15    49\n",
            "12       2007  Atlético Mineiro        8        15    63\n",
            "13       2017  Atlético Mineiro        9        14    52\n",
            "14       2010  Atlético Mineiro       13        13    52\n",
            "15       2005  Atlético Mineiro       20        13    54\n",
            "16       2011  Atlético Mineiro       15        13    50\n",
            "17       2019  Atlético Mineiro       13        13    45\n",
            "18       2004  Atlético Mineiro       19        12    60\n",
            "19       2008  Atlético Mineiro       12        12    50\n",
            "20       2024  Atlético Mineiro       12        11    47\n"
          ]
        }
      ]
    },
    {
      "cell_type": "markdown",
      "source": [
        "Calculei a média de gols marcados pelo time por temporada. O resultado foi uma média de aproximadamente 56,1 gols, mostrando um bom poder ofensivo ao longo dos anos."
      ],
      "metadata": {
        "id": "ntk5iYt_YU8c"
      }
    },
    {
      "cell_type": "code",
      "source": [
        "atletico = resultado[resultado[\"time\"] == \"Atlético Mineiro\"]\n",
        "\n",
        "media_gols_atletico = atletico[\"gols\"].mean()\n",
        "\n",
        "print(f\"A média de gols do Atlético Mineiro foi: {media_gols_atletico}\")"
      ],
      "metadata": {
        "colab": {
          "base_uri": "https://localhost:8080/"
        },
        "id": "57k98nXiQk2s",
        "outputId": "a0a3b18f-58ef-404d-b63c-7a59e78d33d0"
      },
      "execution_count": 18,
      "outputs": [
        {
          "output_type": "stream",
          "name": "stdout",
          "text": [
            "A média de gols do Atlético Mineiro foi: 56.095238095238095\n"
          ]
        }
      ]
    },
    {
      "cell_type": "markdown",
      "source": [
        "Filtrei as temporadas em que o clube terminou entre os quatro primeiros colocados (famoso G4), garantindo vaga direta para a Copa Libertadores da América. Em destaque, a campanha de 2012, que garantiu a vaga para 2013. Ano em que o Galo foi campeão da Libertadores."
      ],
      "metadata": {
        "id": "NnCg7gp5YceI"
      }
    },
    {
      "cell_type": "code",
      "source": [
        "dentro_do_G4 = atletico[atletico[\"posicao\"] <= 4]\n",
        "\n",
        "dentro = dentro_do_G4.reset_index(drop=True)\n",
        "\n",
        "print(dentro[[\"temporada\", \"posicao\", \"time\"]])"
      ],
      "metadata": {
        "colab": {
          "base_uri": "https://localhost:8080/"
        },
        "id": "Sp89G4MaTsL3",
        "outputId": "b1bc16b4-b5f3-4f3c-e062-12cd2ed96c1e"
      },
      "execution_count": 9,
      "outputs": [
        {
          "output_type": "stream",
          "name": "stdout",
          "text": [
            "   temporada  posicao              time\n",
            "0       2012        2  Atlético Mineiro\n",
            "1       2015        2  Atlético Mineiro\n",
            "2       2016        4  Atlético Mineiro\n",
            "3       2020        3  Atlético Mineiro\n",
            "4       2021        1  Atlético Mineiro\n",
            "5       2023        3  Atlético Mineiro\n"
          ]
        }
      ]
    },
    {
      "cell_type": "markdown",
      "source": [
        "# Visualização de Dados"
      ],
      "metadata": {
        "id": "GMlJbQajDWBe"
      }
    },
    {
      "cell_type": "markdown",
      "source": [
        "A visualização de dados é uma etapa essencial no processo de análise, pois permite comunicar informações de forma clara e direta por meio de representações visuais. Quando bem aplicada, ela se torna uma poderosa ferramenta de apoio à tomada de decisões. No entanto, é fundamental utilizá-la com cuidado, já que visualizações mal elaboradas podem causar mais confusão do que esclarecimento."
      ],
      "metadata": {
        "id": "fsn1NJR6DYLk"
      }
    },
    {
      "cell_type": "markdown",
      "source": [
        "Com base na parte acima, sabemos que as temporadas em que o atletico ficou dentro do G4 foram 2012, 2015, 2016, 2020, 2021 e 2023. Sendo assim, irei apresentar estes dados de forma gráfica, mostrando a importancia de poder visualizar estes dados"
      ],
      "metadata": {
        "id": "P3LbL08QESQy"
      }
    },
    {
      "cell_type": "code",
      "source": [
        "posicao = dentro[\"temporada\"].astype(str)\n",
        "ctg_posicao = dentro[\"posicao\"]\n",
        "\n",
        "cor_galo = '#000000'\n",
        "cores = [cor_galo] * len(posicao)\n",
        "\n",
        "legenda = f'Posição no G4'\n",
        "\n",
        "plt.bar(posicao, ctg_posicao, color=cores)\n",
        "plt.xlabel('Temporada')\n",
        "plt.ylabel('Posição')\n",
        "plt.title('Posição do Atlético Mineiro dentro do G4')\n",
        "plt.legend([legenda])\n",
        "plt.show()"
      ],
      "metadata": {
        "colab": {
          "base_uri": "https://localhost:8080/",
          "height": 472
        },
        "id": "CG1rVKizzwRZ",
        "outputId": "5ccf0864-d717-4d32-80ad-cd2be0b87a39"
      },
      "execution_count": 16,
      "outputs": [
        {
          "output_type": "display_data",
          "data": {
            "text/plain": [
              "<Figure size 640x480 with 1 Axes>"
            ],
            "image/png": "[encoded data removed]"
          },
          "metadata": {}
        }
      ]
    },
    {
      "cell_type": "markdown",
      "source": [
        "Nem toda história é feita só de glórias e todo torcedor de verdade sabe disso. Analisando os dados, nos deparamos com um capítulo difícil da nossa trajetória: a temporada de 2005.\n",
        "\n",
        "Foi o ano mais doloroso para o torcedor atleticano. Cada rodada parecia mais pesada que a anterior. A cada apito final, o sentimento de angústia aumentava. E no fim, veio o inevitável: o rebaixamento para a Série B. Um momento marcante, que ainda hoje ecoa nos corações de quem viveu aquele pesadelo de perto. Foram 21 derrotas."
      ],
      "metadata": {
        "id": "LEy6JVglZDJO"
      }
    },
    {
      "cell_type": "code",
      "source": [
        "max_derrotas = atletico['derrotas'].max()\n",
        "\n",
        "temporadas_mais_derrotas = atletico[atletico['derrotas'] == max_derrotas][['temporada', 'derrotas']]\n",
        "\n",
        "print(\"Temporadas com mais derrotas:\")\n",
        "for _, row in temporadas_mais_derrotas.iterrows():\n",
        "    print(f\"Ano: {row['temporada']} - Derrotas: {row['derrotas']}\")"
      ],
      "metadata": {
        "colab": {
          "base_uri": "https://localhost:8080/"
        },
        "id": "OqVygWmKWmnG",
        "outputId": "3571773b-74bf-4d4b-b1dc-e24fc459921c"
      },
      "execution_count": null,
      "outputs": [
        {
          "output_type": "stream",
          "name": "stdout",
          "text": [
            "Temporadas com mais derrotas:\n",
            "Ano: 2005 - Derrotas: 21\n"
          ]
        }
      ]
    },
    {
      "cell_type": "markdown",
      "source": [
        "# Conclusão\n",
        "Através dessa análise, foi possível organizar e entender os dados do Atlético Mineiro no Campeonato Brasileiro entre 2003 e 2024.\n",
        "\n",
        "Com a filtragem e os cálculos, confirmei que 2021 foi a temporada com mais vitórias e 2005 foi a temporada com mais derrotas, levando ao rebaixamento do clube. Também identifiquei a temporada com mais empates, que foi 2004.\n",
        "\n",
        "Além disso, calculei a média de gols por temporada, que ficou em aproximadamente 56 gols. Verifiquei ainda os anos em que o clube terminou o campeonato entre os quatro primeiros colocados, garantindo vaga para a Libertadores.\n",
        "\n",
        "Mesmo sendo iniciante, consegui aplicar comandos básicos de análise de dados em Python com o uso do Pandas, o que me ajudou a interpretar as informações da tabela de forma clara e direta."
      ],
      "metadata": {
        "id": "w0Tmx0jXb91A"
      }
    }
  ]
}